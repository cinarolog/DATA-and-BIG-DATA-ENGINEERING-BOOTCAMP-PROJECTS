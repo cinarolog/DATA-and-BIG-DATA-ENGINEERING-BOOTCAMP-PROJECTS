{
 "cells": [
  {
   "cell_type": "code",
   "execution_count": 1,
   "metadata": {},
   "outputs": [],
   "source": [
    "import sqlite3\n",
    "conn = sqlite3.connect(\"db.db\")"
   ]
  },
  {
   "attachments": {},
   "cell_type": "markdown",
   "metadata": {},
   "source": [
    "Create Table"
   ]
  },
  {
   "cell_type": "code",
   "execution_count": 2,
   "metadata": {},
   "outputs": [],
   "source": [
    "def create_table(baglanti):\n",
    "    try:\n",
    "        cursor = baglanti.cursor()\n",
    "        create_table_query = '''CREATE TABLE IF NOT EXISTS kullanicilar (\n",
    "                                id INTEGER PRIMARY KEY AUTOINCREMENT,\n",
    "                                ad TEXT NOT NULL,\n",
    "                                email TEXT NOT NULL,\n",
    "                                sifre TEXT NOT NULL);'''  \n",
    "           \n",
    "        cursor.execute(create_table_query)\n",
    "        baglanti.commit()\n",
    "        print(\"Tablo oluştu\")\n",
    "    except sqlite3.Error as err:\n",
    "        print(\"Hata tablo oluşmadı \", err)"
   ]
  },
  {
   "cell_type": "code",
   "execution_count": 3,
   "metadata": {},
   "outputs": [
    {
     "name": "stdout",
     "output_type": "stream",
     "text": [
      "Tablo oluştu\n"
     ]
    }
   ],
   "source": [
    "create_table(baglanti=conn)"
   ]
  },
  {
   "attachments": {},
   "cell_type": "markdown",
   "metadata": {},
   "source": [
    "# insert"
   ]
  },
  {
   "cell_type": "code",
   "execution_count": 5,
   "metadata": {},
   "outputs": [],
   "source": [
    "def insert_table(baglanti,veriler):\n",
    "    try:\n",
    "        cursor = baglanti.cursor()\n",
    "        \n",
    "        insert_query = '''INSERT INTO kullanicilar (ad, email, sifre)\n",
    "                          VALUES (?, ?, ?);'''\n",
    "        cursor.execute(insert_query,veriler)\n",
    "        baglanti.commit()\n",
    "        print(\"Veri/ler eklendi\")\n",
    "    except sqlite3.Error as err:\n",
    "        print(\"Veri/ler eklenmedi \", err)"
   ]
  },
  {
   "cell_type": "code",
   "execution_count": 6,
   "metadata": {},
   "outputs": [],
   "source": [
    "def insert_table_all(baglanti,veriler):\n",
    "    try:\n",
    "        cursor = baglanti.cursor()\n",
    "        \n",
    "        insert_query = '''INSERT INTO kullanicilar (ad, email, sifre)\n",
    "                          VALUES (?, ?, ?);'''\n",
    "        cursor.executemany(insert_query,veriler)\n",
    "        baglanti.commit()\n",
    "        print(\"Veri/ler eklendi\")\n",
    "    except sqlite3.Error as err:\n",
    "        print(\"Veri/ler eklenmedi \", err)"
   ]
  },
  {
   "cell_type": "code",
   "execution_count": 7,
   "metadata": {},
   "outputs": [
    {
     "name": "stdout",
     "output_type": "stream",
     "text": [
      "Veri/ler eklendi\n"
     ]
    }
   ],
   "source": [
    "veri = [\n",
    "    [\"ahmet\", \"ahmet123@gmail.com\", \"123456\"],\n",
    "    [\"mehmet\", \"mehmet456@gmail.com\", \"789012\"],\n",
    "    [\"ayşe\", \"ayse789@gmail.com\", \"345678\"],\n",
    "    [\"fatma\", \"fatma101@gmail.com\", \"567890\"],\n",
    "    [\"mustafa\", \"mustafa2022@gmail.com\", \"20222022\"],\n",
    "    [\"elif\", \"elif_34@gmail.com\", \"3434\"],\n",
    "    [\"emre\", \"emre_email@gmail.com\", \"1234\"],\n",
    "    [\"zeynep\", \"zeynep_xyz@gmail.com\", \"12345678\"],\n",
    "    [\"can\", \"can_email@gmail.com\", \"2023\"],\n",
    "    [\"eda\", \"eda.email@gmail.com\", \"5678\"]\n",
    "]\n",
    "\n",
    "insert_table_all(baglanti=conn,veriler=veri)"
   ]
  },
  {
   "attachments": {},
   "cell_type": "markdown",
   "metadata": {},
   "source": [
    "# Select"
   ]
  },
  {
   "cell_type": "code",
   "execution_count": 8,
   "metadata": {},
   "outputs": [],
   "source": [
    "def select_table(baglanti):\n",
    "    try:\n",
    "        cursor = baglanti.cursor()\n",
    "        select = \"Select * from kullanicilar;\"\n",
    "        cursor.execute(select)\n",
    "        veriler = cursor.fetchall()\n",
    "        print(veriler)\n",
    "        print(type(veriler))\n",
    "\n",
    "        for veri in veriler:\n",
    "            print(veri)\n",
    "    except sqlite3.Error as err:\n",
    "        print(\"Sorgu çalışmadı \", err)\n"
   ]
  },
  {
   "cell_type": "code",
   "execution_count": 9,
   "metadata": {},
   "outputs": [
    {
     "name": "stdout",
     "output_type": "stream",
     "text": [
      "[(1, 'ahmet', 'ahmet123@gmail.com', '123456'), (2, 'mehmet', 'mehmet456@gmail.com', '789012'), (3, 'ayşe', 'ayse789@gmail.com', '345678'), (4, 'fatma', 'fatma101@gmail.com', '567890'), (5, 'mustafa', 'mustafa2022@gmail.com', '20222022'), (6, 'elif', 'elif_34@gmail.com', '3434'), (7, 'emre', 'emre_email@gmail.com', '1234'), (8, 'zeynep', 'zeynep_xyz@gmail.com', '12345678'), (9, 'can', 'can_email@gmail.com', '2023'), (10, 'eda', 'eda.email@gmail.com', '5678')]\n",
      "<class 'list'>\n",
      "(1, 'ahmet', 'ahmet123@gmail.com', '123456')\n",
      "(2, 'mehmet', 'mehmet456@gmail.com', '789012')\n",
      "(3, 'ayşe', 'ayse789@gmail.com', '345678')\n",
      "(4, 'fatma', 'fatma101@gmail.com', '567890')\n",
      "(5, 'mustafa', 'mustafa2022@gmail.com', '20222022')\n",
      "(6, 'elif', 'elif_34@gmail.com', '3434')\n",
      "(7, 'emre', 'emre_email@gmail.com', '1234')\n",
      "(8, 'zeynep', 'zeynep_xyz@gmail.com', '12345678')\n",
      "(9, 'can', 'can_email@gmail.com', '2023')\n",
      "(10, 'eda', 'eda.email@gmail.com', '5678')\n"
     ]
    }
   ],
   "source": [
    "select_table(baglanti=conn)"
   ]
  },
  {
   "attachments": {},
   "cell_type": "markdown",
   "metadata": {},
   "source": [
    "# Update"
   ]
  },
  {
   "cell_type": "code",
   "execution_count": 10,
   "metadata": {},
   "outputs": [],
   "source": [
    "def update_table(baglanti,guncellenecek_veriler):\n",
    "    try:\n",
    "        cursor = baglanti.cursor()\n",
    "        \n",
    "        insert_query = 'UPDATE kullanicilar SET ad = ?, email = ?, sifre = ? WHERE id = ?;'\n",
    "        cursor.execute(insert_query,guncellenecek_veriler)\n",
    "        baglanti.commit()\n",
    "        print(\"Veri/ler güncellendi\")\n",
    "    except sqlite3.Error as err:\n",
    "        print(\"Veri/ler güncellenmedi \", err)"
   ]
  },
  {
   "cell_type": "code",
   "execution_count": 11,
   "metadata": {},
   "outputs": [
    {
     "name": "stdout",
     "output_type": "stream",
     "text": [
      "Veri/ler güncellendi\n"
     ]
    }
   ],
   "source": [
    "veri = [\"pessi\",\"pessi@gamil.com\",\"54647\",2]\n",
    "update_table(baglanti=conn,guncellenecek_veriler=veri)"
   ]
  },
  {
   "cell_type": "code",
   "execution_count": 12,
   "metadata": {},
   "outputs": [
    {
     "name": "stdout",
     "output_type": "stream",
     "text": [
      "[(1, 'ahmet', 'ahmet123@gmail.com', '123456'), (2, 'pessi', 'pessi@gamil.com', '54647'), (3, 'ayşe', 'ayse789@gmail.com', '345678'), (4, 'fatma', 'fatma101@gmail.com', '567890'), (5, 'mustafa', 'mustafa2022@gmail.com', '20222022'), (6, 'elif', 'elif_34@gmail.com', '3434'), (7, 'emre', 'emre_email@gmail.com', '1234'), (8, 'zeynep', 'zeynep_xyz@gmail.com', '12345678'), (9, 'can', 'can_email@gmail.com', '2023'), (10, 'eda', 'eda.email@gmail.com', '5678')]\n",
      "<class 'list'>\n",
      "(1, 'ahmet', 'ahmet123@gmail.com', '123456')\n",
      "(2, 'pessi', 'pessi@gamil.com', '54647')\n",
      "(3, 'ayşe', 'ayse789@gmail.com', '345678')\n",
      "(4, 'fatma', 'fatma101@gmail.com', '567890')\n",
      "(5, 'mustafa', 'mustafa2022@gmail.com', '20222022')\n",
      "(6, 'elif', 'elif_34@gmail.com', '3434')\n",
      "(7, 'emre', 'emre_email@gmail.com', '1234')\n",
      "(8, 'zeynep', 'zeynep_xyz@gmail.com', '12345678')\n",
      "(9, 'can', 'can_email@gmail.com', '2023')\n",
      "(10, 'eda', 'eda.email@gmail.com', '5678')\n"
     ]
    }
   ],
   "source": [
    "select_table(baglanti=conn)"
   ]
  },
  {
   "attachments": {},
   "cell_type": "markdown",
   "metadata": {},
   "source": [
    "# delete"
   ]
  },
  {
   "cell_type": "code",
   "execution_count": 13,
   "metadata": {},
   "outputs": [],
   "source": [
    "def delete_table(baglanti,silinecek_id):\n",
    "    try:\n",
    "        cursor = baglanti.cursor()\n",
    "        \n",
    "        insert_query = 'Delete from kullanicilar WHERE id = ?;'\n",
    "        cursor.execute(insert_query,(silinecek_id,))\n",
    "        baglanti.commit()\n",
    "        print(\"veri silindi \")\n",
    "    except sqlite3.Error as err:\n",
    "        print(\"veri silinmedi \", err)\n",
    " "
   ]
  },
  {
   "cell_type": "code",
   "execution_count": 15,
   "metadata": {},
   "outputs": [
    {
     "name": "stdout",
     "output_type": "stream",
     "text": [
      "veri silindi \n"
     ]
    }
   ],
   "source": [
    "delete_table(baglanti=conn,silinecek_id=2)\n"
   ]
  },
  {
   "cell_type": "code",
   "execution_count": 16,
   "metadata": {},
   "outputs": [
    {
     "name": "stdout",
     "output_type": "stream",
     "text": [
      "[(1, 'ahmet', 'ahmet123@gmail.com', '123456'), (3, 'ayşe', 'ayse789@gmail.com', '345678'), (4, 'fatma', 'fatma101@gmail.com', '567890'), (5, 'mustafa', 'mustafa2022@gmail.com', '20222022'), (6, 'elif', 'elif_34@gmail.com', '3434'), (7, 'emre', 'emre_email@gmail.com', '1234'), (8, 'zeynep', 'zeynep_xyz@gmail.com', '12345678'), (9, 'can', 'can_email@gmail.com', '2023'), (10, 'eda', 'eda.email@gmail.com', '5678')]\n",
      "<class 'list'>\n",
      "(1, 'ahmet', 'ahmet123@gmail.com', '123456')\n",
      "(3, 'ayşe', 'ayse789@gmail.com', '345678')\n",
      "(4, 'fatma', 'fatma101@gmail.com', '567890')\n",
      "(5, 'mustafa', 'mustafa2022@gmail.com', '20222022')\n",
      "(6, 'elif', 'elif_34@gmail.com', '3434')\n",
      "(7, 'emre', 'emre_email@gmail.com', '1234')\n",
      "(8, 'zeynep', 'zeynep_xyz@gmail.com', '12345678')\n",
      "(9, 'can', 'can_email@gmail.com', '2023')\n",
      "(10, 'eda', 'eda.email@gmail.com', '5678')\n"
     ]
    }
   ],
   "source": [
    "select_table(baglanti=conn)"
   ]
  },
  {
   "cell_type": "code",
   "execution_count": 17,
   "metadata": {},
   "outputs": [],
   "source": [
    " \n",
    "def delete_table2(baglanti,ad):\n",
    "    try:\n",
    "        cursor = baglanti.cursor()\n",
    "        \n",
    "        insert_query = 'Delete from kullanicilar WHERE ad = ?;'\n",
    "        cursor.execute(insert_query,(ad,))\n",
    "        baglanti.commit()\n",
    "        print(\"veri silindi \")\n",
    "    except sqlite3.Error as err:\n",
    "        print(\"veri silinmedi \", err)"
   ]
  },
  {
   "cell_type": "code",
   "execution_count": 18,
   "metadata": {},
   "outputs": [
    {
     "name": "stdout",
     "output_type": "stream",
     "text": [
      "veri silindi \n"
     ]
    }
   ],
   "source": [
    "delete_table2(baglanti=conn,ad=\"veli\")"
   ]
  },
  {
   "cell_type": "code",
   "execution_count": 19,
   "metadata": {},
   "outputs": [
    {
     "name": "stdout",
     "output_type": "stream",
     "text": [
      "[(1, 'ahmet', 'ahmet123@gmail.com', '123456'), (3, 'ayşe', 'ayse789@gmail.com', '345678'), (4, 'fatma', 'fatma101@gmail.com', '567890'), (5, 'mustafa', 'mustafa2022@gmail.com', '20222022'), (6, 'elif', 'elif_34@gmail.com', '3434'), (7, 'emre', 'emre_email@gmail.com', '1234'), (8, 'zeynep', 'zeynep_xyz@gmail.com', '12345678'), (9, 'can', 'can_email@gmail.com', '2023'), (10, 'eda', 'eda.email@gmail.com', '5678')]\n",
      "<class 'list'>\n",
      "(1, 'ahmet', 'ahmet123@gmail.com', '123456')\n",
      "(3, 'ayşe', 'ayse789@gmail.com', '345678')\n",
      "(4, 'fatma', 'fatma101@gmail.com', '567890')\n",
      "(5, 'mustafa', 'mustafa2022@gmail.com', '20222022')\n",
      "(6, 'elif', 'elif_34@gmail.com', '3434')\n",
      "(7, 'emre', 'emre_email@gmail.com', '1234')\n",
      "(8, 'zeynep', 'zeynep_xyz@gmail.com', '12345678')\n",
      "(9, 'can', 'can_email@gmail.com', '2023')\n",
      "(10, 'eda', 'eda.email@gmail.com', '5678')\n"
     ]
    }
   ],
   "source": [
    "select_table(baglanti=conn)"
   ]
  },
  {
   "cell_type": "code",
   "execution_count": 20,
   "metadata": {},
   "outputs": [],
   "source": [
    "conn.close()"
   ]
  },
  {
   "cell_type": "code",
   "execution_count": null,
   "metadata": {},
   "outputs": [],
   "source": [
    "# pip install SQLAlchemy==1.4.46"
   ]
  },
  {
   "cell_type": "code",
   "execution_count": null,
   "metadata": {},
   "outputs": [],
   "source": []
  }
 ],
 "metadata": {
  "kernelspec": {
   "display_name": "Python 3",
   "language": "python",
   "name": "python3"
  },
  "language_info": {
   "codemirror_mode": {
    "name": "ipython",
    "version": 3
   },
   "file_extension": ".py",
   "mimetype": "text/x-python",
   "name": "python",
   "nbconvert_exporter": "python",
   "pygments_lexer": "ipython3",
   "version": "3.9.0"
  },
  "orig_nbformat": 4
 },
 "nbformat": 4,
 "nbformat_minor": 2
}
